{
 "cells": [
  {
   "cell_type": "markdown",
   "id": "backed-hungarian",
   "metadata": {},
   "source": [
    "# Book Recommendations."
   ]
  },
  {
   "cell_type": "code",
   "execution_count": 69,
   "id": "composed-advice",
   "metadata": {},
   "outputs": [],
   "source": [
    "import yaml\n",
    "import sqlite3\n",
    "from contextlib import contextmanager\n",
    "from typing import List, Tuple, Dict\n",
    "import numpy as np\n",
    "from sentence_transformers import SentenceTransformer\n",
    "from sklearn.preprocessing import normalize\n",
    "\n",
    "\n",
    "class BooksRecommender:\n",
    "\n",
    "    def __init__(self) -> None:\n",
    "        \n",
    "        # Model\n",
    "        self.transformer = SentenceTransformer(\n",
    "            \"paraphrase-mpnet-base-v2\" # English.\n",
    "#             \"paraphrase-multilingual-mpnet-base-v2\" # Multilingual.\n",
    "        )\n",
    "        self.emb = None\n",
    "        \n",
    "        # Database.\n",
    "        self.con = sqlite3.connect(\":memory:\")\n",
    "        self.cur = self.con.cursor()\n",
    "        self.cols = [\n",
    "            \"title\",\n",
    "            \"description\",\n",
    "            \"url\",\n",
    "            \"image_url\",\n",
    "        ]\n",
    "        self.cur.execute('''\n",
    "        CREATE TABLE IF NOT EXISTS books (\n",
    "              id integer not null primary key asc\n",
    "            , title text\n",
    "            , description text\n",
    "            , url text\n",
    "            , image_url text\n",
    "        )\n",
    "        ;\n",
    "        ''')\n",
    "        self.con.commit()\n",
    "        \n",
    "    def add_books(self,\n",
    "                  values:List[Dict[str, str]]\n",
    "                 ) -> None:\n",
    "        values = [[d.get(c) for c in self.cols] for d in values]\n",
    "        q = \",\".join([\"?\" for c in self.cols])\n",
    "        cols = \",\".join([c for c in self.cols])\n",
    "        self.cur.executemany(f'''\n",
    "        INSERT INTO books ({cols}) values ({q})\n",
    "        ''', values)\n",
    "        self.con.commit()\n",
    "        \n",
    "    def update_by_id(self, _id:int, values:Dict[str, str]) -> None:\n",
    "        k_v = \",\".join([f\"{k}=\\\"{v}\\\"\" \\\n",
    "                        for k,v in values.items() if k in self.cols])\n",
    "        self.cur.execute(f'''\n",
    "        UPDATE books SET {k_v} WHERE id = ?\n",
    "        ''', (_id,))\n",
    "        self.con.commit()\n",
    "\n",
    "    def get_by_title(self, title:str) -> List[Tuple[int, str, str]]:\n",
    "        return [book for book in self.cur.execute('''\n",
    "        SELECT * FROM books where title like ?\n",
    "        ''', (\"%\"+title+\"%\",))]\n",
    "    \n",
    "    def get_by_id(self, _id:int) -> Tuple[int, str, str]:\n",
    "        return [book for book in self.cur.execute('''\n",
    "        SELECT * FROM books where id = ?\n",
    "        ''', (_id,))]\n",
    "    \n",
    "    def apply_transformer(self) -> None:\n",
    "        self.emb = normalize(\n",
    "            self.transformer.encode(\n",
    "            [t[0] for t in self.cur.execute(\n",
    "            \"select title || ' ' || description from books order by id asc;\")]))\n",
    "        \n",
    "    def __call__(self, text:str, top_n:int=1) -> List[Tuple[str, str, str, str]]:\n",
    "        query = self.transformer.encode([text]).T\n",
    "        similarities = self.emb.dot(query)[:,0]\n",
    "        ids = np.argpartition(similarities, len(similarities)-top_n)[-top_n:] + 1\n",
    "        q = \",\".join([\"?\" for _ in range(top_n)])\n",
    "        return [t for t in self.cur.execute(\n",
    "            f\"select * from books where id in ({q})\", ids.tolist())]"
   ]
  },
  {
   "cell_type": "code",
   "execution_count": 118,
   "id": "romantic-boutique",
   "metadata": {},
   "outputs": [
    {
     "name": "stdout",
     "output_type": "stream",
     "text": [
      "CPU times: user 18.5 s, sys: 1.09 s, total: 19.6 s\n",
      "Wall time: 18.6 s\n"
     ]
    }
   ],
   "source": [
    "%%time\n",
    "rec = BooksRecommender()\n",
    "with open(\"books.yaml\", \"r\") as f:\n",
    "    rec.add_books(yaml.safe_load(f))\n",
    "rec.apply_transformer()"
   ]
  },
  {
   "cell_type": "code",
   "execution_count": 130,
   "id": "statewide-enterprise",
   "metadata": {},
   "outputs": [
    {
     "name": "stdout",
     "output_type": "stream",
     "text": [
      "CPU times: user 96.5 ms, sys: 6 ms, total: 102 ms\n",
      "Wall time: 114 ms\n"
     ]
    },
    {
     "data": {
      "text/plain": [
       "[(10,\n",
       "  'World Without End',\n",
       "  'World Without End takes place in the same town of Kingsbridge, two centuries after the townspeople finished building the exquisite Gothic cathedral that was at the heart of The Pillars of the Earth. The cathedral and the priory are again at the center of a web of love and hate, greed and pride, ambition and revenge, but this sequel stands on its own. This time the men and women of an extraordinary cast of characters find themselves at a crossroads of new ideas—about medicine, commerce, architecture, and justice. In a world where proponents of the old ways fiercely battle those with progressive minds, the intrigue and tension quickly reach a boiling point against the devastating backdrop of the greatest natural disaster ever to strike the human race—the Black Death.',\n",
       "  'https://www.goodreads.com/book/show/5201512-world-without-end',\n",
       "  'https://i.gr-assets.com/images/S/compressed.photo.goodreads.com/books/1328202324l/5201512.jpg'),\n",
       " (12,\n",
       "  'The Way of Kings',\n",
       "  \"I long for the days before the Last Desolation. The age before the Heralds abandoned us and the Knights Radiant turned against us. A time when there was still magic in the world and honor in the hearts of men. The world became ours, and yet we lost it. Victory proved to be the greatest test of all. Or was that victory illusory? Did our enemies come to recognize that the harder they fought, the fiercer our resistance? Fire and hammer will forge steel into a weapon, but if you abandon your sword, it eventually rusts away. There are four whom we watch. The first is the surgeon, forced to forsake healing to fight in the most brutal war of our time. The second is the assassin, a murderer who weeps as he kills. The third is the liar, a young woman who wears a scholar's mantle over the heart of a thief. The last is the prince, a warlord whose eyes have opened to the ancient past as his thirst for battle wanes. The world can change. Surgebinding and Shardwielding can return; the magics of ancient days become ours again. These four people are key. One of them may redeem us. And one of them will destroy us.\",\n",
       "  'https://www.goodreads.com/book/show/9188338-the-way-of-kings',\n",
       "  'https://i.gr-assets.com/images/S/compressed.photo.goodreads.com/books/1296253603l/9188338._SY475_.jpg'),\n",
       " (19,\n",
       "  'Lancelot',\n",
       "  \"The legions of Rome are a fading memory. Enemies stalk the fringes of Britain. And Uther Pendragon is dying. Into this fractured and uncertain world the boy is cast, a refugee from fire, murder and betrayal. An outsider whose only companions are a hateful hawk and memories of the lost. Yet he is gifted, and under the watchful eyes of Merlin and the Lady Nimue he will hone his talents and begin his journey to manhood. He will meet Guinevere, a wild, proud and beautiful girl, herself outcast because of her gift. And he will be dazzled by Arthur, a warrior who carries the hopes of a people like fire in the dark. But these are times of struggle and blood, when even friendship and love seem doomed to fail. The gods are vanishing beyond the reach of dreams. Treachery and jealousy rule men’s hearts and the fate of Britain itself rests on a sword’s edge. But the young renegade who left his home in Benoic with just a hunting bird and dreams of revenge is now a lord of war. He is a man loved and hated, admired and feared. A man forsaken but not forgotten. He is Lancelot. Set in a 5th century Britain besieged by invading bands of Saxons and Franks, Irish and Picts, Giles Kristian's epic new novel tells - through the warrior's own words - the story of Lancelot, that most celebrated of all King Arthur's knights. It is a story ready to be re-imagined for our times.\",\n",
       "  'https://www.goodreads.com/book/show/40499453-lancelot',\n",
       "  'https://i.gr-assets.com/images/S/compressed.photo.goodreads.com/books/1555739408l/40499453._SY475_.jpg'),\n",
       " (42,\n",
       "  'A Breath of Snow and Ashes',\n",
       "  'A Breath of Snow and Ashes continues the extraordinary story of 18th-century Scotsman Jamie Fraser and his 20th-century wife, Claire. The year is 1772, and on the eve of the American Revolution, the long fuse of rebellion has already been lit. Men lie dead in the streets of Boston, and in the backwoods of North Carolina, isolated cabins burn in the forest. With chaos brewing, the governor calls upon Jamie Fraser to unite the backcountry and safeguard the colony for King and Crown. But from his wife Jamie knows that three years hence the shot heard round the world will be fired, and the result will be independence — with those loyal to the King either dead or in exile. And there is also the matter of a tiny clipping from The Wilmington Gazette, dated 1776, which reports Jamie’s death, along with his kin. For once, he hopes, his time-traveling family may be wrong about the future.',\n",
       "  'https://www.goodreads.com/book/show/10965.A_Breath_of_Snow_and_Ashes',\n",
       "  'https://i.gr-assets.com/images/S/compressed.photo.goodreads.com/books/1388197203l/10965.jpg')]"
      ]
     },
     "execution_count": 130,
     "metadata": {},
     "output_type": "execute_result"
    }
   ],
   "source": [
    "%%time\n",
    "rec(\"a story in medieval england\", top_n=4)"
   ]
  }
 ],
 "metadata": {
  "kernelspec": {
   "display_name": "Python 3",
   "language": "python",
   "name": "python3"
  },
  "language_info": {
   "codemirror_mode": {
    "name": "ipython",
    "version": 3
   },
   "file_extension": ".py",
   "mimetype": "text/x-python",
   "name": "python",
   "nbconvert_exporter": "python",
   "pygments_lexer": "ipython3",
   "version": "3.9.1"
  }
 },
 "nbformat": 4,
 "nbformat_minor": 5
}
