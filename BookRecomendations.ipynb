{
 "cells": [
  {
   "cell_type": "markdown",
   "id": "changed-branch",
   "metadata": {},
   "source": [
    "# Book Recommendations."
   ]
  },
  {
   "cell_type": "code",
   "execution_count": 2,
   "id": "mysterious-forestry",
   "metadata": {},
   "outputs": [],
   "source": [
    "import yaml\n",
    "import pandas as pd\n",
    "from BookRecommender import BookRecommender"
   ]
  },
  {
   "cell_type": "code",
   "execution_count": null,
   "id": "documentary-correspondence",
   "metadata": {},
   "outputs": [],
   "source": [
    "%%time\n",
    "\n",
    "with open(\"books.yaml\", \"r\") as f:\n",
    "    books = yaml.safe_load(f)\n",
    "    \n",
    "\n",
    "rec = BookRecommender(books)"
   ]
  },
  {
   "cell_type": "code",
   "execution_count": 6,
   "id": "demographic-sunglasses",
   "metadata": {},
   "outputs": [
    {
     "name": "stdout",
     "output_type": "stream",
     "text": [
      "CPU times: user 96.7 ms, sys: 6.44 ms, total: 103 ms\n",
      "Wall time: 109 ms\n"
     ]
    },
    {
     "data": {
      "text/plain": [
       "[['The Space Between Worlds',\n",
       "  'An outsider who can travel between worlds discovers a secret that threatens her new home and her fragile place in it, in a stunning sci-fi debut that’s both a cross-dimensional adventure and a powerful examination of identity, privilege, and belonging. Multiverse travel is finally possible, but there’s just one catch No one can visit a world where their counterpart is still alive. Enter Cara, whose parallel selves happen to be exceptionally good at dying—from disease, turf wars, or vendettas they couldn’t outrun. Cara’s life has been cut short on 372 worlds in total. On this Earth, however, Cara has survived. Identified as an outlier and therefore a perfect candidate for multiverse travel, Cara is plucked from the dirt of the wastelands. Now she has a nice apartment on the lower levels of the wealthy and walled-off Wiley City. She works—and shamelessly flirts—with her enticing yet aloof handler, Dell, as the two women collect off-world data for the Eldridge Institute. She even occasionally leaves the city to visit her family in the wastes, though she struggles to feel at home in either place. So long as she can keep her head down and avoid trouble, Cara is on a sure path to citizenship and security. But trouble finds Cara when one of her eight remaining doppelgängers dies under mysterious circumstances, plunging her into a new world with an old secret. What she discovers will connect her past and her future in ways she could have never imagined—and reveal her own role in a plot that endangers not just her world, but the entire multiverse.',\n",
       "  'https://www.goodreads.com/book/show/43301353-the-space-between-worlds',\n",
       "  'https://i.gr-assets.com/images/S/compressed.photo.goodreads.com/books/1585293595l/43301353._SX318_SY475_.jpg'],\n",
       " ['Skyward',\n",
       "  'Defeated, crushed, and driven almost to extinction, the remnants of the human race are trapped on a planet that is constantly attacked by mysterious alien starfighters. Spensa, a teenage girl living among them, longs to be a pilot. When she discovers the wreckage of an ancient ship, she realizes this dream might be possible—assuming she can repair the ship, navigate flight school, and (perhaps most importantly) persuade the strange machine to help her. Because this ship, uniquely, appears to have a soul.',\n",
       "  'https://www.goodreads.com/book/show/36642458-skyward',\n",
       "  'https://i.gr-assets.com/images/S/compressed.photo.goodreads.com/books/1531845177l/36642458._SY475_.jpg'],\n",
       " ['The Martian',\n",
       "  'Six days ago, astronaut Mark Watney became one of the first people to walk on Mars. Now, he’s sure he’ll be the first person to die there. After a dust storm nearly kills him and forces his crew to evacuate while thinking him dead, Mark finds himself stranded and completely alone with no way to even signal Earth that he’s alive—and even if he could get word out, his supplies would be gone long before a rescue could arrive. Chances are, though, he won’t have time to starve to death. The damaged machinery, unforgiving environment, or plain-old “human error” are much more likely to kill him first. But Mark isn’t ready to give up yet. Drawing on his ingenuity, his engineering skills — and a relentless, dogged refusal to quit — he steadfastly confronts one seemingly insurmountable obstacle after the next. Will his resourcefulness be enough to overcome the impossible odds against him?',\n",
       "  'https://www.goodreads.com/book/show/18007564-the-martian',\n",
       "  'https://i.gr-assets.com/images/S/compressed.photo.goodreads.com/books/1413706054l/18007564.jpg'],\n",
       " ['The Three-Body Problem',\n",
       "  \"Set against the backdrop of China's Cultural Revolution, a secret military project sends signals into space to establish contact with aliens. An alien civilization on the brink of destruction captures the signal and plans to invade Earth. Meanwhile, on Earth, different camps start forming, planning to either welcome the superior beings and help them take over a world seen as corrupt, or to fight against the invasion.\",\n",
       "  'https://www.goodreads.com/book/show/20518872-the-three-body-problem',\n",
       "  'https://i.gr-assets.com/images/S/compressed.photo.goodreads.com/books/1415428227l/20518872.jpg']]"
      ]
     },
     "execution_count": 6,
     "metadata": {},
     "output_type": "execute_result"
    }
   ],
   "source": [
    "%%time\n",
    "rec(\"a story in space\", top_n=4)"
   ]
  }
 ],
 "metadata": {
  "kernelspec": {
   "display_name": "Python 3",
   "language": "python",
   "name": "python3"
  },
  "language_info": {
   "codemirror_mode": {
    "name": "ipython",
    "version": 3
   },
   "file_extension": ".py",
   "mimetype": "text/x-python",
   "name": "python",
   "nbconvert_exporter": "python",
   "pygments_lexer": "ipython3",
   "version": "3.9.1"
  }
 },
 "nbformat": 4,
 "nbformat_minor": 5
}
