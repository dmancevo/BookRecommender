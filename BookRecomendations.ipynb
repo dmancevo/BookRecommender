{
 "cells": [
  {
   "cell_type": "markdown",
   "id": "equipped-status",
   "metadata": {},
   "source": [
    "# Book Recommendations."
   ]
  },
  {
   "cell_type": "code",
   "execution_count": 10,
   "id": "assigned-arthur",
   "metadata": {},
   "outputs": [],
   "source": [
    "from sentence_transformers import SentenceTransformer\n",
    "\n",
    "model = SentenceTransformer(\"paraphrase-mpnet-base-v2\") # English.\n",
    "# model = SentenceTransformer(\"paraphrase-multilingual-mpnet-base-v2\") # Multilingual."
   ]
  },
  {
   "cell_type": "code",
   "execution_count": 14,
   "id": "multiple-northern",
   "metadata": {},
   "outputs": [
    {
     "data": {
      "text/plain": [
       "(3, 768)"
      ]
     },
     "execution_count": 14,
     "metadata": {},
     "output_type": "execute_result"
    }
   ],
   "source": [
    "Books = model.encode([\n",
    "    \"Treasure Islands: Tax Havens and the Men Who Stole the World. This is the ugliest chapter in global economic affairs since slavery -- and secretive offshore tax havens are at the heart of the trouble. Dirty money, tax havens and the offshore system describe the ugliest and most secretive chapter in the history of global economic affairs. The World Bank has reported that the flow of dirty money across borders, out of developing countries and into rich ones, is up to ten times the amount of foreign aid that flows the other way. Most people regard tax havens as being relevant only to celebrities, crooks and spivs, and mistakenly believe that the main offshore problems are money laundering and terrorist financing. These are only small parts of the whole picture. The offshore system has been (discreetly) responsible for the greatest ever shift of wealth from poor to rich. It also undermines our democracies by offering the wealthiest members of society escape routes from tax, financial regulation and other normal democratic controls. The anti-globalisation movement tapped into an uneasiness, felt by millions, that something was rotten in the world economy. Treasure Islands brilliantly articulates the problem in a completely new way, and exposes the deep corruption that impacts on our daily lives.\",\n",
    "    \"The book of longings. Raised in a wealthy family in Sepphoris with ties to the ruler of Galilee, Ana is rebellious and ambitious, a relentless seeker with a brilliant, curious mind and a daring spirit. She yearns for a pursuit worthy of her life, but finds no outlet for her considerable talents. Defying the expectations placed on women, she engages in furtive scholarly pursuits and writes secret narratives about neglected and silenced women. When she meets the eighteen-year-old Jesus, each is drawn to and enriched by the other’s spiritual and philosophical ideas. He becomes a floodgate for her intellect, but also the awakener of her heart. Their marriage unfolds with love and conflict, humor and pathos in Nazareth, where Ana makes a home with Jesus, his brothers, James and Simon, and their mother, Mary. Here, Ana’s pent-up longings intensify amid the turbulent resistance to the Roman occupation of Israel, partially led by her charismatic adopted brother, Judas. She is sustained by her indomitable aunt Yaltha, who is searching for her long-lost daughter, as well as by other women, including her friend Tabitha, who is sold into slavery after she was raped, and Phasaelis, the shrewd wife of Herod Antipas. Ana’s impetuous streak occasionally invites danger. When one such foray forces her to flee Nazareth for her safety shortly before Jesus’s public ministry begins, she makes her way with Yaltha to Alexandria, where she eventually finds refuge and purpose in unexpected surroundings. Grounded in meticulous historical research and written with a reverential approach to Jesus’s life that focuses on his humanity, The Book of Longings is an inspiring account of one woman’s bold struggle to realize the passion and potential inside her, while living in a time, place, and culture devised to silence her.\",\n",
    "    \"A Feast of Sorrows. A Feast of Sorrows—Angela Slatter’s first U.S. collection—features twelve of the World Fantasy and British Fantasy Award-winning Australian author’s finest, darkest fairy tales, and adds two new novellas to her marvelous cauldron of fiction. Stories peopled by women and girls—fearless, frightened, brave, bold, frail, and fantastical—who take the paths less traveled by, accept (and offer) poisoned apples, and embrace transformation in all its forms. Reminiscent of Angela Carter at her best, Slatter’s work is both timeless and fresh: fascinating new reflections from the enchanted mirrors of fairy tales and folklore.\"\n",
    "])\n",
    "\n",
    "Books.shape"
   ]
  },
  {
   "cell_type": "code",
   "execution_count": 20,
   "id": "suspended-salmon",
   "metadata": {},
   "outputs": [
    {
     "data": {
      "text/plain": [
       "array([[0.9999999 , 0.11562701, 0.18975008],\n",
       "       [0.11562701, 1.0000002 , 0.47643942],\n",
       "       [0.18975008, 0.47643942, 0.9999999 ]], dtype=float32)"
      ]
     },
     "execution_count": 20,
     "metadata": {},
     "output_type": "execute_result"
    }
   ],
   "source": [
    "from sklearn.metrics.pairwise import cosine_similarity\n",
    "import numpy as np\n",
    "\n",
    "cosine_similarity(Books)"
   ]
  }
 ],
 "metadata": {
  "kernelspec": {
   "display_name": "Python 3",
   "language": "python",
   "name": "python3"
  },
  "language_info": {
   "codemirror_mode": {
    "name": "ipython",
    "version": 3
   },
   "file_extension": ".py",
   "mimetype": "text/x-python",
   "name": "python",
   "nbconvert_exporter": "python",
   "pygments_lexer": "ipython3",
   "version": "3.9.1"
  }
 },
 "nbformat": 4,
 "nbformat_minor": 5
}
